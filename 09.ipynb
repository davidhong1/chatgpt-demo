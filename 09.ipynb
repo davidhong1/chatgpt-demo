{
 "cells": [
  {
   "attachments": {},
   "cell_type": "markdown",
   "metadata": {},
   "source": [
    "# 09 | 语义检索，利用 Embedding 优化你的搜索功能\n",
    "\n",
    "## 让 AI 生成实验数据"
   ]
  },
  {
   "cell_type": "code",
   "execution_count": 21,
   "metadata": {
    "vscode": {
     "languageId": "python"
    }
   },
   "outputs": [
    {
     "data": {
      "text/html": [
       "<div>\n",
       "<style scoped>\n",
       "    .dataframe tbody tr th:only-of-type {\n",
       "        vertical-align: middle;\n",
       "    }\n",
       "\n",
       "    .dataframe tbody tr th {\n",
       "        vertical-align: top;\n",
       "    }\n",
       "\n",
       "    .dataframe thead th {\n",
       "        text-align: right;\n",
       "    }\n",
       "</style>\n",
       "<table border=\"1\" class=\"dataframe\">\n",
       "  <thead>\n",
       "    <tr style=\"text-align: right;\">\n",
       "      <th></th>\n",
       "      <th>product_name</th>\n",
       "    </tr>\n",
       "  </thead>\n",
       "  <tbody>\n",
       "    <tr>\n",
       "      <th>0</th>\n",
       "      <td>Apple/苹果 MacBook Pro 16英寸笔记本电脑，超值享受！</td>\n",
       "    </tr>\n",
       "    <tr>\n",
       "      <th>1</th>\n",
       "      <td>小米/MI 10 Pro 5G手机，双11特惠，抢购必看！</td>\n",
       "    </tr>\n",
       "    <tr>\n",
       "      <th>2</th>\n",
       "      <td>三星/SAMSUNG Galaxy S20 Ultra 5G旗舰版，购机更优惠！</td>\n",
       "    </tr>\n",
       "    <tr>\n",
       "      <th>3</th>\n",
       "      <td>华为/HUAWEI Mate 40 Pro 5G，抢鲜体验，新品上市！</td>\n",
       "    </tr>\n",
       "    <tr>\n",
       "      <th>4</th>\n",
       "      <td>荣耀/HONOR MagicBook Pro，双11狂欢，高性价比！</td>\n",
       "    </tr>\n",
       "    <tr>\n",
       "      <th>...</th>\n",
       "      <td>...</td>\n",
       "    </tr>\n",
       "    <tr>\n",
       "      <th>139</th>\n",
       "      <td>【满减优惠】小麦粒5斤装</td>\n",
       "    </tr>\n",
       "    <tr>\n",
       "      <th>140</th>\n",
       "      <td>【限量抢购】米糠粉5斤装</td>\n",
       "    </tr>\n",
       "    <tr>\n",
       "      <th>141</th>\n",
       "      <td>【买2送1】玉米片粉5斤装</td>\n",
       "    </tr>\n",
       "    <tr>\n",
       "      <th>142</th>\n",
       "      <td>【限时特价】红豆米粉5斤装</td>\n",
       "    </tr>\n",
       "    <tr>\n",
       "      <th>143</th>\n",
       "      <td>【折上折】紫薯粉5斤装</td>\n",
       "    </tr>\n",
       "  </tbody>\n",
       "</table>\n",
       "<p>144 rows × 1 columns</p>\n",
       "</div>"
      ],
      "text/plain": [
       "                                 product_name\n",
       "0        Apple/苹果 MacBook Pro 16英寸笔记本电脑，超值享受！\n",
       "1               小米/MI 10 Pro 5G手机，双11特惠，抢购必看！\n",
       "2    三星/SAMSUNG Galaxy S20 Ultra 5G旗舰版，购机更优惠！\n",
       "3         华为/HUAWEI Mate 40 Pro 5G，抢鲜体验，新品上市！\n",
       "4          荣耀/HONOR MagicBook Pro，双11狂欢，高性价比！\n",
       "..                                        ...\n",
       "139                              【满减优惠】小麦粒5斤装\n",
       "140                              【限量抢购】米糠粉5斤装\n",
       "141                             【买2送1】玉米片粉5斤装\n",
       "142                             【限时特价】红豆米粉5斤装\n",
       "143                               【折上折】紫薯粉5斤装\n",
       "\n",
       "[144 rows x 1 columns]"
      ]
     },
     "metadata": {},
     "output_type": "display_data"
    }
   ],
   "source": [
    "\n",
    "import openai, os\n",
    "import pandas as pd\n",
    "\n",
    "openai.api_key = os.environ.get(\"OPENAI_API_KEY\")\n",
    "COMPLETION_MODEL = \"text-davinci-003\"\n",
    "\n",
    "def generate_data_by_prompt(prompt):\n",
    "    response = openai.Completion.create(\n",
    "        engine=COMPLETION_MODEL,\n",
    "        prompt=prompt,\n",
    "        temperature=0.5,\n",
    "        max_tokens=2048,\n",
    "        top_p=1,\n",
    "    )\n",
    "    return response.choices[0].text\n",
    "\n",
    "prompt = \"\"\"请你生成 50 条淘宝网里的商品的标题，每条在30个字左右，品类是3C数码产品，标题里往往也会有一些促销类的信息，每行一条。\"\"\"\n",
    "data = generate_data_by_prompt(prompt)\n",
    "\n",
    "\n",
    "product_names = data.strip().split('\\n')\n",
    "df = pd.DataFrame({'product_name': product_names})\n",
    "df.head()\n",
    "\n",
    "df.product_name = df.product_name.apply(lambda x: x.split('.')[1].strip())\n",
    "df.head()\n",
    "\n",
    "\n",
    "clothes_prompt = \"\"\"请你生成 50 条淘宝网里的商品的标题，每条在30个字左右，品类是女性的服饰箱包等等，标题里往往也会有一些促销类的信息，每行一条。\"\"\"\n",
    "clothes_data = generate_data_by_prompt(clothes_prompt)\n",
    "clothes_product_names = clothes_data.strip().split('\\n')\n",
    "clothes_df = pd.DataFrame({'product_name': clothes_product_names})\n",
    "clothes_df.product_name = clothes_df.product_name.apply(lambda x: x.split('.')[1].strip())\n",
    "clothes_df.head()\n",
    "\n",
    "df = pd.concat([df, clothes_df], axis=0)\n",
    "df = df.reset_index(drop=True)\n",
    "\n",
    "cereals_prompt = \"\"\"请你生成 50 条淘宝网里的商品的标题，每条在30个字左右，品类是大米、谷物等等，标题里往往也会有一些促销类的信息，每行一条。\"\"\"\n",
    "cereals_data = generate_data_by_prompt(cereals_prompt)\n",
    "cereals_product_names = cereals_data.strip().split('\\n')\n",
    "cereals_df = pd.DataFrame({'product_name': cereals_product_names})\n",
    "cereals_df.product_name = cereals_df.product_name.apply(lambda x: x.split('.')[1].strip())\n",
    "cereals_df.head()\n",
    "\n",
    "df = pd.concat([df, cereals_df], axis=0)\n",
    "df = df.reset_index(drop=True)\n",
    "\n",
    "\n",
    "display(df)"
   ]
  },
  {
   "attachments": {},
   "cell_type": "markdown",
   "metadata": {},
   "source": [
    "## 通过 Embedding 进行语义搜索\n"
   ]
  },
  {
   "cell_type": "code",
   "execution_count": 22,
   "metadata": {
    "vscode": {
     "languageId": "python"
    }
   },
   "outputs": [],
   "source": [
    "\n",
    "from openai.embeddings_utils import get_embeddings\n",
    "import openai, os, backoff\n",
    "\n",
    "openai.api_key = os.environ.get(\"OPENAI_API_KEY\")\n",
    "embedding_model = \"text-embedding-ada-002\"\n",
    "\n",
    "batch_size = 100\n",
    "\n",
    "@backoff.on_exception(backoff.expo, openai.error.RateLimitError)\n",
    "def get_embeddings_with_backoff(prompts, engine):\n",
    "    embeddings = []\n",
    "    for i in range(0, len(prompts), batch_size):\n",
    "        batch = prompts[i:i+batch_size]\n",
    "        embeddings += get_embeddings(list_of_text=batch, engine=engine)\n",
    "    return embeddings\n",
    "\n",
    "prompts = df.product_name.tolist()\n",
    "prompt_batches = [prompts[i:i+batch_size] for i in range(0, len(prompts), batch_size)]\n",
    "\n",
    "embeddings = []\n",
    "for batch in prompt_batches:\n",
    "    batch_embeddings = get_embeddings_with_backoff(prompts=batch, engine=embedding_model)\n",
    "    embeddings += batch_embeddings\n",
    "\n",
    "df[\"embedding\"] = embeddings\n",
    "df.to_parquet(\"data/taobao_product_title.parquet\", index=False)\n"
   ]
  },
  {
   "attachments": {},
   "cell_type": "markdown",
   "metadata": {},
   "source": [
    "定义一个 search_product 的搜索函数，接受三个参数，一个 df 代表用于搜索的数据源，一个 query 代表用于搜索的搜索词，然后一个 n 代表搜索返回多少条记录。而这个函数就干了这样三件事情。\n",
    "1. 调用 OpenAI 的 API 将搜索词也转换为 Embedding。\n",
    "2. 将这个 Embedding 和 DataFrame 里的每一个 Embedding 都计算一下余弦距离。\n",
    "3. 根据余弦相似度去排序，返回距离最近的 n 个标题。"
   ]
  },
  {
   "cell_type": "code",
   "execution_count": 26,
   "metadata": {
    "vscode": {
     "languageId": "python"
    }
   },
   "outputs": [
    {
     "name": "stdout",
     "output_type": "stream",
     "text": [
      "【限时特价】花生米粉5斤装\n",
      "【月末特惠】玉米粒5斤装\n",
      "【月末特惠】大麦米5斤装\n"
     ]
    }
   ],
   "source": [
    "\n",
    "from openai.embeddings_utils import get_embedding, cosine_similarity\n",
    "\n",
    "# search through the reviews for a specific product\n",
    "def search_product(df, query, n=3, pprint=True):\n",
    "    product_embedding = get_embedding(\n",
    "        query,\n",
    "        engine=embedding_model\n",
    "    )\n",
    "    df[\"similarity\"] = df.embedding.apply(lambda x: cosine_similarity(x, product_embedding))\n",
    "\n",
    "    results = (\n",
    "        df.sort_values(\"similarity\", ascending=False)\n",
    "        .head(n)\n",
    "        .product_name\n",
    "    )\n",
    "    if pprint:\n",
    "        for r in results:\n",
    "            print(r)\n",
    "    return results\n",
    "\n",
    "# results = search_product(df, \"自然淡雅背包\", n=3)\n",
    "results = search_product(df, \"粮食\", n=3)"
   ]
  },
  {
   "attachments": {},
   "cell_type": "markdown",
   "metadata": {},
   "source": [
    "## 利用 Embedding 信息进行商品推荐的冷启动"
   ]
  },
  {
   "cell_type": "code",
   "execution_count": 27,
   "metadata": {
    "vscode": {
     "languageId": "python"
    }
   },
   "outputs": [
    {
     "name": "stdout",
     "output_type": "stream",
     "text": [
      "【月末特惠】玉米粒5斤装\n",
      "【月末特惠】大麦米5斤装\n",
      "【月末特惠】芝麻米5斤装\n"
     ]
    }
   ],
   "source": [
    "\n",
    "def recommend_product(df, product_name, n=3, pprint=True):\n",
    "    product_embedding = df[df['product_name'] == product_name].iloc[0].embedding\n",
    "    df[\"similarity\"] = df.embedding.apply(lambda x: cosine_similarity(x, product_embedding))\n",
    "\n",
    "    results = (\n",
    "        df.sort_values(\"similarity\", ascending=False)\n",
    "        .head(n)\n",
    "        .product_name\n",
    "    )\n",
    "    if pprint:\n",
    "        for r in results:\n",
    "            print(r)\n",
    "    return results\n",
    "\n",
    "results = recommend_product(df, \"【月末特惠】玉米粒5斤装\", n=3)\n",
    "# results = recommend_product(df, \"【买一送一】精致小羊皮双肩包\", n=3)"
   ]
  },
  {
   "attachments": {},
   "cell_type": "markdown",
   "metadata": {},
   "source": [
    "## 通过 FAISS 加速搜索过程\n",
    "\n",
    "安装依赖\n",
    "```\n",
    "conda activate py310\n",
    "conda install -c conda-forge faiss\n",
    "# MacOS ARM 上只能安装 faiss-cpu\n",
    "pip3 install faiss-cpu\n",
    "pip3 install numpy --upgrade\n",
    "```"
   ]
  },
  {
   "cell_type": "code",
   "execution_count": 28,
   "metadata": {
    "vscode": {
     "languageId": "python"
    }
   },
   "outputs": [],
   "source": [
    "\n",
    "import faiss\n",
    "import numpy as np\n",
    "\n",
    "def load_embeddings_to_faiss(df):\n",
    "    embeddings = np.array(df['embedding'].tolist()).astype('float32')\n",
    "    index = faiss.IndexFlatL2(embeddings.shape[1])\n",
    "    index.add(embeddings)\n",
    "    return index\n",
    "\n",
    "index = load_embeddings_to_faiss(df)"
   ]
  },
  {
   "cell_type": "code",
   "execution_count": 29,
   "metadata": {
    "vscode": {
     "languageId": "python"
    }
   },
   "outputs": [
    {
     "name": "stdout",
     "output_type": "stream",
     "text": [
      "【新品】精致小巧真皮双肩包 0.21052608\n",
      "【特惠】精致小巧真皮双肩包 0.21205075\n",
      "【热卖】小巧精致真皮双肩包 0.22003332\n"
     ]
    }
   ],
   "source": [
    "\n",
    "def search_index(index, df, query, k=5):\n",
    "    query_vector = np.array(get_embedding(query, engine=embedding_model)).reshape(1, -1).astype('float32')\n",
    "    distances, indexes = index.search(query_vector, k)\n",
    "\n",
    "    results = []\n",
    "    for i in range(len(indexes)):\n",
    "        product_names = df.iloc[indexes[i]]['product_name'].values.tolist()\n",
    "        results.append((distances[i], product_names))    \n",
    "    return results\n",
    "\n",
    "products = search_index(index, df, \"自然淡雅背包\", k=3)\n",
    "\n",
    "for distances, product_names in products:\n",
    "    for i in range(len(distances)):\n",
    "        print(product_names[i], distances[i])\n",
    "        "
   ]
  }
 ],
 "metadata": {
  "kernelspec": {
   "display_name": "Python 3 (ipykernel)",
   "language": "python",
   "name": "python3"
  },
  "orig_nbformat": 4
 },
 "nbformat": 4,
 "nbformat_minor": 2
}
