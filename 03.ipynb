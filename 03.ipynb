{
 "cells": [
  {
   "cell_type": "code",
   "execution_count": null,
   "metadata": {},
   "outputs": [],
   "source": [
    "# 03 | 巧用提示语，说说话就能做个聊天机器人"
   ]
  },
  {
   "cell_type": "code",
   "execution_count": 1,
   "metadata": {},
   "outputs": [
    {
     "name": "stdout",
     "output_type": "stream",
     "text": [
      "\n",
      "\n",
      "亲, 你的订单（订单号2021AEDG）已经在路上送货了，预计会在三天之内送达，由于天气原因物流时间比较长，我们深感抱歉，同时也感谢你的支持！\n",
      "\n",
      "\n",
      "亲，你的订单2021AEDG已发货，预计在3天之内会送达，不过由于天气因素，物流时间有点慢，我们很抱歉。感谢你选择我们的商品！\n"
     ]
    }
   ],
   "source": [
    "import openai\n",
    "import os\n",
    "\n",
    "openai.api_key = os.environ.get(\"OPENAI_API_KEY\")\n",
    "COMPLETION_MODEL = \"text-davinci-003\"\n",
    "\n",
    "prompt = '请你用朋友的语气回复给到客户，并称他为“亲”，他的订单已经发货在路上了，预计在3天之内会送达，订单号2021AEDG，我们很抱歉因为天气的原因物流时间比原来长，感谢他选购我们的商品。'\n",
    "\n",
    "def get_response(prompt, temperature = 1.0):\n",
    "    completions = openai.Completion.create (\n",
    "        engine=COMPLETION_MODEL,\n",
    "        prompt=prompt,\n",
    "        max_tokens=1024,\n",
    "        n=1,\n",
    "        stop=None,\n",
    "        temperature=temperature,\n",
    "    )\n",
    "    message = completions.choices[0].text\n",
    "    return message\n",
    "\n",
    "\n",
    "print(get_response(prompt))\n",
    "\n",
    "print(get_response(prompt))\n",
    "\n"
   ]
  },
  {
   "cell_type": "code",
   "execution_count": null,
   "metadata": {},
   "outputs": [],
   "source": [
    "上面每次回答都不一样，归功于参数 temperature。\n",
    "下面我们把参数 temperature 设置为 0，这样每次生成的内容随机性就比较小"
   ]
  },
  {
   "cell_type": "code",
   "execution_count": 2,
   "metadata": {},
   "outputs": [
    {
     "name": "stdout",
     "output_type": "stream",
     "text": [
      "\n",
      "\n",
      "亲，您的订单2021AEDG已经发货，预计在3天之内会送达。很抱歉因为天气的原因物流时间比原来长，感谢您选购我们的商品，祝您购物愉快！\n",
      "\n",
      "\n",
      "亲，您的订单2021AEDG已经发货，预计在3天之内会送达。很抱歉因为天气的原因物流时间比原来长，感谢您选购我们的商品，祝您购物愉快！\n"
     ]
    }
   ],
   "source": [
    "\n",
    "print(get_response(prompt, 0.0))\n",
    "\n",
    "print(get_response(prompt, 0.0))\n"
   ]
  },
  {
   "attachments": {},
   "cell_type": "markdown",
   "metadata": {},
   "source": [
    "# AI 聊天机器人"
   ]
  },
  {
   "cell_type": "code",
   "execution_count": 3,
   "metadata": {},
   "outputs": [
    {
     "name": "stdout",
     "output_type": "stream",
     "text": [
      "鱼香肉丝做法：\n",
      "\n",
      "1. 准备好材料：猪肉五花肉500g，葱姜2-3克，干辣椒4-5根，蒜头3-4片，醋、料酒、盐、鸡精、白糖、胡椒粉、芡实粉，以及玉米淀粉50g。\n",
      "\n",
      "2. 将五花肉洗净，切成薄片，用5g盐、3g白糖、1.5g胡椒粉腌制15分钟。\n",
      "\n",
      "3. 葱姜蒜切碎，干辣椒洗净切段备用。\n",
      "\n",
      "4. 把肉片放入搅拌机，加入50g玉米淀粉，搅拌均匀，把搅拌好的肉片放入一个大碗，加入用料酒、盐、鸡精、胡椒粉拌匀，腌制30分钟备用。\n",
      "\n",
      "5. 热锅倒入适量油，把腌好的肉片放入，翻炒几下。\n",
      "\n",
      "6. 加入葱姜蒜，把辣椒倒入锅中，用醋和鸡精各1小勺，加入少许盐翻炒均匀出锅。\n",
      "\n",
      "7. 最后加入芡实粉少许，搅拌均匀即可出锅。\n"
     ]
    }
   ],
   "source": [
    "\n",
    "question =  \"\"\"\n",
    "Q : 鱼香肉丝怎么做？\n",
    "A : \n",
    "\"\"\"\n",
    "print(get_response(question))"
   ]
  },
  {
   "cell_type": "code",
   "execution_count": 4,
   "metadata": {},
   "outputs": [
    {
     "name": "stdout",
     "output_type": "stream",
     "text": [
      "第7步是在最后把芡实粉加入锅中，搅拌均匀即可出锅。芡实粉也叫芡子粉，有棉花糖般的芡味，是新疆的传统特色粉食和家常菜，可以用来烹饪多种蔬菜，这里不仅能添加美味口感，而且还能使菜肴团聚成薄片，形成一道鲜美可口的鱼香肉丝。\n"
     ]
    }
   ],
   "source": [
    "\n",
    "question =  \"\"\"\n",
    "Q : 鱼香肉丝怎么做？\n",
    "A : \n",
    "鱼香肉丝做法：\n",
    "\n",
    "1. 准备好材料：猪肉五花肉500g，葱姜2-3克，干辣椒4-5根，蒜头3-4片，醋、料酒、盐、鸡精、白糖、胡椒粉、芡实粉，以及玉米淀粉50g。\n",
    "\n",
    "2. 将五花肉洗净，切成薄片，用5g盐、3g白糖、1.5g胡椒粉腌制15分钟。\n",
    "\n",
    "3. 葱姜蒜切碎，干辣椒洗净切段备用。\n",
    "\n",
    "4. 把肉片放入搅拌机，加入50g玉米淀粉，搅拌均匀，把搅拌好的肉片放入一个大碗，加入用料酒、盐、鸡精、胡椒粉拌匀，腌制30分钟备用。\n",
    "\n",
    "5. 热锅倒入适量油，把腌好的肉片放入，翻炒几下。\n",
    "\n",
    "6. 加入葱姜蒜，把辣椒倒入锅中，用醋和鸡精各1小勺，加入少许盐翻炒均匀出锅。\n",
    "\n",
    "7. 最后加入芡实粉少许，搅拌均匀即可出锅。\n",
    "Q : 第 7 步不是很懂，麻烦详细解释下！\n",
    "A : \n",
    "\"\"\"\n",
    "print(get_response(question))"
   ]
  },
  {
   "attachments": {},
   "cell_type": "markdown",
   "metadata": {},
   "source": [
    "# 让 AI 帮我解决情感分析问题"
   ]
  },
  {
   "cell_type": "code",
   "execution_count": 5,
   "metadata": {},
   "outputs": [
    {
     "name": "stdout",
     "output_type": "stream",
     "text": [
      "\n",
      "正面\n"
     ]
    }
   ],
   "source": [
    "\n",
    "prompts = \"\"\"判断一下用户的评论情感上是正面的还是负面的\n",
    "评论：买的银色版真的很好看，一天就到了，晚上就开始拿起来完系统很丝滑流畅，做工扎实，手感细腻，很精致哦苹果一如既往的好品质\n",
    "情感：正面\n",
    "\n",
    "评论：随意降价，不予价保，服务态度差\n",
    "情感：负面\n",
    "\"\"\"\n",
    "\n",
    "good_case = prompts + \"\"\"\n",
    "评论：外形外观：苹果审美一直很好，金色非常漂亮\n",
    "拍照效果：14pro升级的4800万像素真的是没的说，太好了，\n",
    "运行速度：苹果的反应速度好，用上三五年也不会卡顿的，之前的7P用到现在也不卡\n",
    "其他特色：14pro的磨砂金真的太好看了，不太高调，也不至于没有特点，非常耐看，很好的\n",
    "情感：\n",
    "\"\"\"\n",
    "\n",
    "print(get_response(good_case))"
   ]
  },
  {
   "cell_type": "code",
   "execution_count": 6,
   "metadata": {},
   "outputs": [
    {
     "name": "stdout",
     "output_type": "stream",
     "text": [
      "负面\n"
     ]
    }
   ],
   "source": [
    "\n",
    "bad_case = prompts + \"\"\"\n",
    "评论：信号不好电池也不耐电不推荐购买\n",
    "情感\n",
    "\"\"\"\n",
    "\n",
    "print(get_response(bad_case))"
   ]
  },
  {
   "attachments": {},
   "cell_type": "markdown",
   "metadata": {},
   "source": [
    "# 善用合适的提示语，能够让大语言模型完成很多任务。这也是为什么，我们认为它已经是我们迈向通用人工智能的第一步。"
   ]
  }
 ],
 "metadata": {
  "kernelspec": {
   "display_name": "Python 3 (ipykernel)",
   "language": "python",
   "name": "python3"
  },
  "language_info": {
   "codemirror_mode": {
    "name": "ipython",
    "version": 3
   },
   "file_extension": ".py",
   "mimetype": "text/x-python",
   "name": "python",
   "nbconvert_exporter": "python",
   "pygments_lexer": "ipython3",
   "version": "3.10.11"
  },
  "orig_nbformat": 4
 },
 "nbformat": 4,
 "nbformat_minor": 2
}
